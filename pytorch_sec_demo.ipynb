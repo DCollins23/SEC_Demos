{
  "nbformat": 4,
  "nbformat_minor": 0,
  "metadata": {
    "colab": {
      "provenance": [],
      "collapsed_sections": [
        "iR4g7dmLQPt5",
        "wcj2o_ewQLEN",
        "JDX685QZvKMn"
      ],
      "gpuType": "T4",
      "include_colab_link": true
    },
    "kernelspec": {
      "name": "python3",
      "display_name": "Python 3"
    },
    "language_info": {
      "name": "python"
    },
    "accelerator": "GPU"
  },
  "cells": [
    {
      "cell_type": "markdown",
      "metadata": {
        "id": "view-in-github",
        "colab_type": "text"
      },
      "source": [
        "<a href=\"https://colab.research.google.com/github/DCollins23/SEC_Demos/blob/main/pytorch_sec_demo.ipynb\" target=\"_parent\"><img src=\"https://colab.research.google.com/assets/colab-badge.svg\" alt=\"Open In Colab\"/></a>"
      ]
    },
    {
      "cell_type": "code",
      "execution_count": null,
      "metadata": {
        "id": "Y-VrwVxht3vD"
      },
      "outputs": [],
      "source": [
        "import torch\n",
        "import torch.nn as nn\n",
        "import torch.nn.functional as F\n",
        "from torch.utils.data import TensorDataset\n",
        "import matplotlib.pyplot as plt\n",
        "from keras.datasets import mnist"
      ]
    },
    {
      "cell_type": "markdown",
      "source": [
        "# Showing off PyTorch"
      ],
      "metadata": {
        "id": "iR4g7dmLQPt5"
      }
    },
    {
      "cell_type": "code",
      "source": [
        "x = torch.arange(1, 10)\n",
        "x"
      ],
      "metadata": {
        "id": "OcBIZZ_iuAZg",
        "colab": {
          "base_uri": "https://localhost:8080/"
        },
        "outputId": "57ce8476-e5b5-4169-91de-1fb0118869c1"
      },
      "execution_count": null,
      "outputs": [
        {
          "output_type": "execute_result",
          "data": {
            "text/plain": [
              "tensor([1, 2, 3, 4, 5, 6, 7, 8, 9])"
            ]
          },
          "metadata": {},
          "execution_count": 3
        }
      ]
    },
    {
      "cell_type": "code",
      "source": [
        "y = 2 * x + 1\n",
        "y"
      ],
      "metadata": {
        "colab": {
          "base_uri": "https://localhost:8080/"
        },
        "id": "eWNyt_Ejv3V3",
        "outputId": "489eed31-ee43-45c8-a7ad-56cdb28d847e"
      },
      "execution_count": null,
      "outputs": [
        {
          "output_type": "execute_result",
          "data": {
            "text/plain": [
              "tensor([ 3,  5,  7,  9, 11, 13, 15, 17, 19])"
            ]
          },
          "metadata": {},
          "execution_count": 4
        }
      ]
    },
    {
      "cell_type": "code",
      "source": [
        "z = (x % 2 == 0)\n",
        "z"
      ],
      "metadata": {
        "colab": {
          "base_uri": "https://localhost:8080/"
        },
        "id": "dtnPy36tvy4J",
        "outputId": "958690a8-df78-4f30-c817-4a9d49343eb5"
      },
      "execution_count": null,
      "outputs": [
        {
          "output_type": "execute_result",
          "data": {
            "text/plain": [
              "tensor([False,  True, False,  True, False,  True, False,  True, False])"
            ]
          },
          "metadata": {},
          "execution_count": 5
        }
      ]
    },
    {
      "cell_type": "code",
      "source": [
        "x = torch.arange(1, 7).reshape(2, 3)\n",
        "x = x.float()\n",
        "print(x.shape)\n",
        "x"
      ],
      "metadata": {
        "colab": {
          "base_uri": "https://localhost:8080/"
        },
        "id": "-bPe3b7EwzkW",
        "outputId": "648e6f52-56d1-455d-81cf-9a507fa5e484"
      },
      "execution_count": null,
      "outputs": [
        {
          "output_type": "stream",
          "name": "stdout",
          "text": [
            "torch.Size([2, 3])\n"
          ]
        },
        {
          "output_type": "execute_result",
          "data": {
            "text/plain": [
              "tensor([[1., 2., 3.],\n",
              "        [4., 5., 6.]])"
            ]
          },
          "metadata": {},
          "execution_count": 6
        }
      ]
    },
    {
      "cell_type": "code",
      "source": [
        "x.mean(dim=0)"
      ],
      "metadata": {
        "colab": {
          "base_uri": "https://localhost:8080/"
        },
        "id": "oHpX_8S3w8bT",
        "outputId": "2166db78-16a2-4522-f545-26ef92a743df"
      },
      "execution_count": null,
      "outputs": [
        {
          "output_type": "execute_result",
          "data": {
            "text/plain": [
              "tensor([2.5000, 3.5000, 4.5000])"
            ]
          },
          "metadata": {},
          "execution_count": 7
        }
      ]
    },
    {
      "cell_type": "code",
      "source": [
        "x.sum(dim=1, keepdim=True)"
      ],
      "metadata": {
        "colab": {
          "base_uri": "https://localhost:8080/"
        },
        "id": "xMu1YT93xF7H",
        "outputId": "fde8e801-4af8-4ed7-e19a-7147244abe06"
      },
      "execution_count": null,
      "outputs": [
        {
          "output_type": "execute_result",
          "data": {
            "text/plain": [
              "tensor([[ 6.],\n",
              "        [15.]])"
            ]
          },
          "metadata": {},
          "execution_count": 8
        }
      ]
    },
    {
      "cell_type": "markdown",
      "source": [
        "> Talk about broadcasting and dimensions"
      ],
      "metadata": {
        "id": "4pZupk8hxRNs"
      }
    },
    {
      "cell_type": "markdown",
      "source": [
        "# Model"
      ],
      "metadata": {
        "id": "TfmrqKX1vu89"
      }
    },
    {
      "cell_type": "code",
      "source": [
        "(x_train, y_train), (x_test, y_test) = mnist.load_data()\n",
        "x_train = x_train.reshape(-1, 28 * 28)\n",
        "x_test = x_test.reshape(-1, 28 * 28)\n",
        "x_train = torch.from_numpy(x_train).float() / 255\n",
        "y_train = torch.from_numpy(y_train).long()\n",
        "x_test = torch.from_numpy(x_test).float() / 255\n",
        "y_test = torch.from_numpy(y_test).long()"
      ],
      "metadata": {
        "colab": {
          "base_uri": "https://localhost:8080/"
        },
        "id": "pJwGR6Hnu4Tz",
        "outputId": "f3964fa3-ddd5-4986-e026-8cfeaf3ab98f"
      },
      "execution_count": null,
      "outputs": [
        {
          "output_type": "stream",
          "name": "stdout",
          "text": [
            "Downloading data from https://storage.googleapis.com/tensorflow/tf-keras-datasets/mnist.npz\n",
            "11490434/11490434 [==============================] - 2s 0us/step\n"
          ]
        }
      ]
    },
    {
      "cell_type": "code",
      "source": [
        "def plot_img(img_tens):\n",
        "  plt.imshow(img_tens.reshape(28, 28));"
      ],
      "metadata": {
        "id": "nrp2IfsaFKR8"
      },
      "execution_count": null,
      "outputs": []
    },
    {
      "cell_type": "code",
      "source": [
        "i = 100\n",
        "plot_img(x_train[i])\n",
        "print(y_train[i])"
      ],
      "metadata": {
        "colab": {
          "base_uri": "https://localhost:8080/",
          "height": 447
        },
        "id": "jlt_3oZFu94x",
        "outputId": "06e0409a-d626-4020-cc60-3027b00e3fa6"
      },
      "execution_count": null,
      "outputs": [
        {
          "output_type": "stream",
          "name": "stdout",
          "text": [
            "tensor(5)\n"
          ]
        },
        {
          "output_type": "display_data",
          "data": {
            "text/plain": [
              "<Figure size 640x480 with 1 Axes>"
            ],
            "image/png": "[encoded data removed]"
          },
          "metadata": {}
        }
      ]
    },
    {
      "cell_type": "code",
      "source": [
        "# declare model\n",
        "class BasicModel(torch.nn.Module):\n",
        "\n",
        "  def __init__(self):\n",
        "    super(BasicModel, self).__init__()\n",
        "    n_in = 784\n",
        "    n_hidden1 = 1_000\n",
        "    n_out = 10\n",
        "\n",
        "    self.layers = nn.Sequential(\n",
        "      nn.Linear(n_in, n_hidden1),\n",
        "      nn.ReLU(),\n",
        "      nn.Linear(n_hidden1, n_out),\n",
        "    )\n",
        "\n",
        "  def forward(self, x):\n",
        "    return self.layers(x)"
      ],
      "metadata": {
        "id": "-TEabMLSwfx9"
      },
      "execution_count": null,
      "outputs": []
    },
    {
      "cell_type": "code",
      "source": [
        "model = BasicModel()\n",
        "logits = model(x_train[0])\n",
        "logits"
      ],
      "metadata": {
        "colab": {
          "base_uri": "https://localhost:8080/"
        },
        "id": "Vez1S5POyL0I",
        "outputId": "99ed72f9-9fd0-4041-dc8e-f45583d5fd60"
      },
      "execution_count": null,
      "outputs": [
        {
          "output_type": "execute_result",
          "data": {
            "text/plain": [
              "tensor([ 0.0741, -0.0300, -0.0546, -0.0871, -0.0612,  0.0043, -0.0921, -0.0366,\n",
              "        -0.1191,  0.1342], grad_fn=<ViewBackward0>)"
            ]
          },
          "metadata": {},
          "execution_count": 13
        }
      ]
    },
    {
      "cell_type": "code",
      "source": [
        "[print(p.shape) for p in model.parameters()]"
      ],
      "metadata": {
        "colab": {
          "base_uri": "https://localhost:8080/"
        },
        "id": "Dcbh0DznyrJj",
        "outputId": "df193928-c250-492f-eb17-a815d3d8ab56"
      },
      "execution_count": null,
      "outputs": [
        {
          "output_type": "stream",
          "name": "stdout",
          "text": [
            "torch.Size([1000, 784])\n",
            "torch.Size([1000])\n",
            "torch.Size([10, 1000])\n",
            "torch.Size([10])\n"
          ]
        },
        {
          "output_type": "execute_result",
          "data": {
            "text/plain": [
              "[None, None, None, None]"
            ]
          },
          "metadata": {},
          "execution_count": 14
        }
      ]
    },
    {
      "cell_type": "code",
      "source": [
        "sum(p.numel() for p in model.parameters() if p.requires_grad)"
      ],
      "metadata": {
        "colab": {
          "base_uri": "https://localhost:8080/"
        },
        "id": "nLd7qQxXygyo",
        "outputId": "965fb19b-7dd7-4579-e6d3-05c9c5ba8b4b"
      },
      "execution_count": null,
      "outputs": [
        {
          "output_type": "execute_result",
          "data": {
            "text/plain": [
              "795010"
            ]
          },
          "metadata": {},
          "execution_count": 15
        }
      ]
    },
    {
      "cell_type": "code",
      "source": [
        "max_iter = 10\n",
        "model = BasicModel()\n",
        "optimizer = torch.optim.SGD(model.parameters(), lr=1)\n",
        "for i in range(max_iter):\n",
        "  optimizer.zero_grad()\n",
        "  logits = model(x_train)\n",
        "  loss = F.cross_entropy(logits, y_train)\n",
        "  loss.backward()\n",
        "  optimizer.step()\n",
        "  print(i, loss.item())"
      ],
      "metadata": {
        "id": "Fi0UKRf43VKX",
        "colab": {
          "base_uri": "https://localhost:8080/"
        },
        "outputId": "e59d7dc1-8bea-4d91-e60c-b38cfa8dd71e"
      },
      "execution_count": null,
      "outputs": [
        {
          "output_type": "stream",
          "name": "stdout",
          "text": [
            "0 2.302894115447998\n",
            "1 2.015059471130371\n",
            "2 1.706375241279602\n",
            "3 1.359289288520813\n",
            "4 1.0979764461517334\n",
            "5 1.4082834720611572\n",
            "6 3.230609655380249\n",
            "7 1.9747523069381714\n",
            "8 1.666353464126587\n",
            "9 1.343738079071045\n",
            "10 1.065885066986084\n",
            "11 0.9022490978240967\n",
            "12 1.0604368448257446\n",
            "13 1.6178245544433594\n",
            "14 1.5868449211120605\n",
            "15 1.3101717233657837\n",
            "16 0.9920015335083008\n",
            "17 0.7220316529273987\n",
            "18 0.6351795196533203\n",
            "19 0.6763202548027039\n"
          ]
        }
      ]
    },
    {
      "cell_type": "code",
      "source": [
        "# once cuda is done\n",
        "x_train = x_train.to(dev)\n",
        "y_train = y_train.to(dev)\n",
        "x_test = x_test.to(dev)\n",
        "y_test = y_test.to(dev)"
      ],
      "metadata": {
        "colab": {
          "base_uri": "https://localhost:8080/"
        },
        "id": "h649ork3mqu7",
        "outputId": "257c1125-0e67-44fe-a03d-bde2ebf901bc"
      },
      "execution_count": null,
      "outputs": [
        {
          "output_type": "stream",
          "name": "stdout",
          "text": [
            "time: 60.2 ms (started: 2024-03-20 23:30:55 +00:00)\n"
          ]
        }
      ]
    },
    {
      "cell_type": "code",
      "source": [
        "train_loader = torch.utils.data.DataLoader(TensorDataset(x_train, y_train), batch_size=32, shuffle=True)"
      ],
      "metadata": {
        "id": "8M2g3c7__HzV"
      },
      "execution_count": null,
      "outputs": []
    },
    {
      "cell_type": "code",
      "source": [
        "# batching\n",
        "model = BasicModel()\n",
        "optimizer = torch.optim.SGD(model.parameters(), lr=1)\n",
        "max_epochs = 10\n",
        "all_losses = []\n",
        "mean_losses = []\n",
        "for i in range(max_epochs):\n",
        "  epoch_losses = []\n",
        "  for x_b, y_b in train_loader:\n",
        "    # get output\n",
        "    logits = model(x_b)\n",
        "    # calculate loss\n",
        "    loss = F.cross_entropy(logits, y_b)\n",
        "    # reset gradients\n",
        "    optimizer.zero_grad()\n",
        "    # calculate new gradients\n",
        "    loss.backward()\n",
        "    # adjust parameters\n",
        "    optimizer.step()\n",
        "    epoch_losses.append(loss.item())\n",
        "    all_losses.append(loss.item())\n",
        "  mean_loss = torch.tensor(epoch_losses).mean()\n",
        "  print(i, mean_loss)\n",
        "  mean_losses.append(mean_loss.item())\n",
        "all_losses = torch.tensor(all_losses)"
      ],
      "metadata": {
        "id": "oM6dh1ALxDNi",
        "colab": {
          "base_uri": "https://localhost:8080/"
        },
        "outputId": "9c237ae1-144c-4e4a-88ed-fb398c736d29"
      },
      "execution_count": null,
      "outputs": [
        {
          "output_type": "stream",
          "name": "stdout",
          "text": [
            "0 tensor(0.2830)\n",
            "1 tensor(0.1300)\n",
            "2 tensor(0.1008)\n",
            "3 tensor(0.0822)\n",
            "4 tensor(0.0678)\n",
            "5 tensor(0.0593)\n",
            "6 tensor(0.0609)\n",
            "7 tensor(0.0434)\n",
            "8 tensor(0.0456)\n",
            "9 tensor(0.0367)\n"
          ]
        }
      ]
    },
    {
      "cell_type": "code",
      "source": [
        "def calc_accuracy(images, labels):\n",
        "  logits = model(images)\n",
        "  # probs = F.softmax(logits, dim=1)\n",
        "  pred = torch.argmax(logits, dim=1)\n",
        "  correct = torch.sum(pred == labels)\n",
        "  total = images.shape[0]\n",
        "  acc = correct / total\n",
        "  return acc"
      ],
      "metadata": {
        "id": "q0g2mss2Cank"
      },
      "execution_count": null,
      "outputs": []
    },
    {
      "cell_type": "code",
      "source": [
        "calc_accuracy(x_train, y_train)"
      ],
      "metadata": {
        "id": "CkWGl2iTikY-",
        "outputId": "5ddadc3c-d805-4bde-a460-b8506d697864",
        "colab": {
          "base_uri": "https://localhost:8080/"
        }
      },
      "execution_count": null,
      "outputs": [
        {
          "output_type": "execute_result",
          "data": {
            "text/plain": [
              "tensor(0.9895)"
            ]
          },
          "metadata": {},
          "execution_count": 27
        }
      ]
    },
    {
      "cell_type": "code",
      "source": [
        "calc_accuracy(x_test, y_test)"
      ],
      "metadata": {
        "id": "odSB4RWOCjER",
        "colab": {
          "base_uri": "https://localhost:8080/"
        },
        "outputId": "d6e2972f-b2b6-441a-dbb6-db164f341bf2"
      },
      "execution_count": null,
      "outputs": [
        {
          "output_type": "execute_result",
          "data": {
            "text/plain": [
              "tensor(0.9744)"
            ]
          },
          "metadata": {},
          "execution_count": 28
        }
      ]
    },
    {
      "cell_type": "markdown",
      "source": [
        "# Cuda"
      ],
      "metadata": {
        "id": "wcj2o_ewQLEN"
      }
    },
    {
      "cell_type": "code",
      "source": [
        "dev = torch.device('cuda' if torch.cuda.is_available() else 'cpu')"
      ],
      "metadata": {
        "id": "L7cV4UdVP53m"
      },
      "execution_count": null,
      "outputs": []
    },
    {
      "cell_type": "code",
      "source": [
        "dev"
      ],
      "metadata": {
        "id": "3UqgxYQrP8_E",
        "colab": {
          "base_uri": "https://localhost:8080/"
        },
        "outputId": "650c6b8c-9953-4bc6-9ec2-a60b09400e15"
      },
      "execution_count": null,
      "outputs": [
        {
          "output_type": "execute_result",
          "data": {
            "text/plain": [
              "device(type='cuda')"
            ]
          },
          "metadata": {},
          "execution_count": 30
        }
      ]
    },
    {
      "cell_type": "code",
      "source": [
        "!pip install ipython-autotime\n",
        "%load_ext autotime"
      ],
      "metadata": {
        "id": "Qlr-IsC9kTp7",
        "colab": {
          "base_uri": "https://localhost:8080/"
        },
        "outputId": "07769765-e74b-4bf9-a8fa-4d24e2eb9950"
      },
      "execution_count": null,
      "outputs": [
        {
          "output_type": "stream",
          "name": "stdout",
          "text": [
            "Collecting ipython-autotime\n",
            "  Downloading ipython_autotime-0.3.2-py2.py3-none-any.whl (7.0 kB)\n",
            "Requirement already satisfied: ipython in /usr/local/lib/python3.10/dist-packages (from ipython-autotime) (7.34.0)\n",
            "Requirement already satisfied: setuptools>=18.5 in /usr/local/lib/python3.10/dist-packages (from ipython->ipython-autotime) (67.7.2)\n",
            "Collecting jedi>=0.16 (from ipython->ipython-autotime)\n",
            "  Downloading jedi-0.19.1-py2.py3-none-any.whl (1.6 MB)\n",
            "\u001b[2K     \u001b[90m━━━━━━━━━━━━━━━━━━━━━━━━━━━━━━━━━━━━━━━━\u001b[0m \u001b[32m1.6/1.6 MB\u001b[0m \u001b[31m30.4 MB/s\u001b[0m eta \u001b[36m0:00:00\u001b[0m\n",
            "\u001b[?25hRequirement already satisfied: decorator in /usr/local/lib/python3.10/dist-packages (from ipython->ipython-autotime) (4.4.2)\n",
            "Requirement already satisfied: pickleshare in /usr/local/lib/python3.10/dist-packages (from ipython->ipython-autotime) (0.7.5)\n",
            "Requirement already satisfied: traitlets>=4.2 in /usr/local/lib/python3.10/dist-packages (from ipython->ipython-autotime) (5.7.1)\n",
            "Requirement already satisfied: prompt-toolkit!=3.0.0,!=3.0.1,<3.1.0,>=2.0.0 in /usr/local/lib/python3.10/dist-packages (from ipython->ipython-autotime) (3.0.43)\n",
            "Requirement already satisfied: pygments in /usr/local/lib/python3.10/dist-packages (from ipython->ipython-autotime) (2.16.1)\n",
            "Requirement already satisfied: backcall in /usr/local/lib/python3.10/dist-packages (from ipython->ipython-autotime) (0.2.0)\n",
            "Requirement already satisfied: matplotlib-inline in /usr/local/lib/python3.10/dist-packages (from ipython->ipython-autotime) (0.1.6)\n",
            "Requirement already satisfied: pexpect>4.3 in /usr/local/lib/python3.10/dist-packages (from ipython->ipython-autotime) (4.9.0)\n",
            "Requirement already satisfied: parso<0.9.0,>=0.8.3 in /usr/local/lib/python3.10/dist-packages (from jedi>=0.16->ipython->ipython-autotime) (0.8.3)\n",
            "Requirement already satisfied: ptyprocess>=0.5 in /usr/local/lib/python3.10/dist-packages (from pexpect>4.3->ipython->ipython-autotime) (0.7.0)\n",
            "Requirement already satisfied: wcwidth in /usr/local/lib/python3.10/dist-packages (from prompt-toolkit!=3.0.0,!=3.0.1,<3.1.0,>=2.0.0->ipython->ipython-autotime) (0.2.13)\n",
            "Installing collected packages: jedi, ipython-autotime\n",
            "Successfully installed ipython-autotime-0.3.2 jedi-0.19.1\n",
            "time: 253 µs (started: 2024-03-20 23:30:36 +00:00)\n"
          ]
        }
      ]
    },
    {
      "cell_type": "code",
      "source": [
        "tens1 = torch.randn(10000, 10000).to(dev)\n",
        "tens2 = torch.randn(10000, 10000).to(dev)"
      ],
      "metadata": {
        "id": "U24txm8yQKsv",
        "colab": {
          "base_uri": "https://localhost:8080/"
        },
        "outputId": "5280149a-11e5-4b02-97b8-d4bbee1f9947"
      },
      "execution_count": null,
      "outputs": [
        {
          "output_type": "stream",
          "name": "stdout",
          "text": [
            "time: 1.97 s (started: 2024-03-20 23:35:46 +00:00)\n"
          ]
        }
      ]
    },
    {
      "cell_type": "code",
      "source": [
        "tens1.device"
      ],
      "metadata": {
        "id": "NeUkKT6smA9b",
        "colab": {
          "base_uri": "https://localhost:8080/"
        },
        "outputId": "aea431fa-3069-4e68-92ad-f9a70b167243"
      },
      "execution_count": null,
      "outputs": [
        {
          "output_type": "execute_result",
          "data": {
            "text/plain": [
              "device(type='cuda', index=0)"
            ]
          },
          "metadata": {},
          "execution_count": 37
        },
        {
          "output_type": "stream",
          "name": "stdout",
          "text": [
            "time: 2.26 ms (started: 2024-03-20 23:35:50 +00:00)\n"
          ]
        }
      ]
    },
    {
      "cell_type": "code",
      "source": [
        "tens1 @ tens2"
      ],
      "metadata": {
        "id": "QQ4E5KsEk7So",
        "colab": {
          "base_uri": "https://localhost:8080/"
        },
        "outputId": "2456108d-f3b8-4628-e9a4-74e573e4608e"
      },
      "execution_count": null,
      "outputs": [
        {
          "output_type": "execute_result",
          "data": {
            "text/plain": [
              "tensor([[-103.1879,  124.3162,   86.5212,  ...,   21.7266,  112.2694,\n",
              "           76.0319],\n",
              "        [  65.9042,   83.5997,  -14.8248,  ..., -117.4686,  -45.1416,\n",
              "         -168.5793],\n",
              "        [ -63.3832,    9.2017,   13.8751,  ...,  113.7233,  -17.5604,\n",
              "           -4.8296],\n",
              "        ...,\n",
              "        [ -65.4400, -136.7970,  -46.4537,  ...,  -85.5406, -137.9412,\n",
              "           65.1185],\n",
              "        [  44.0588,  106.5742,  120.6000,  ...,  241.6482,   -5.9870,\n",
              "          -98.7504],\n",
              "        [  40.6564,  -22.2233,  -16.5554,  ...,   23.7519,  -56.5507,\n",
              "          -21.1135]], device='cuda:0')"
            ]
          },
          "metadata": {},
          "execution_count": 38
        },
        {
          "output_type": "stream",
          "name": "stdout",
          "text": [
            "time: 569 ms (started: 2024-03-20 23:35:52 +00:00)\n"
          ]
        }
      ]
    },
    {
      "cell_type": "markdown",
      "source": [
        "> Talk about convolutions"
      ],
      "metadata": {
        "id": "F_aa4CY31X1n"
      }
    },
    {
      "cell_type": "markdown",
      "source": [
        "# Demo of why cross-entropy loss is better"
      ],
      "metadata": {
        "id": "JDX685QZvKMn"
      }
    },
    {
      "cell_type": "code",
      "source": [
        "import numpy as np"
      ],
      "metadata": {
        "id": "stxEoFaWtuY-"
      },
      "execution_count": null,
      "outputs": []
    },
    {
      "cell_type": "code",
      "source": [
        "probs1 = torch.tensor([0.45, 0.45, 0.1])\n",
        "probs2 = torch.tensor([0.9, 0.0, 0.1])\n",
        "actual = torch.tensor([0, 0, 1])\n",
        "# cross entropy\n",
        "print(-np.log(probs1[2]))\n",
        "print(-np.log(probs2[2]))\n",
        "print(((probs1 - actual) ** 2).sum())\n",
        "print(((probs2 - actual) ** 2).sum())"
      ],
      "metadata": {
        "id": "jL6lOdHbtCj2",
        "colab": {
          "base_uri": "https://localhost:8080/"
        },
        "outputId": "5ac11ed8-44c1-4ad8-80c0-fa99b5cfd288"
      },
      "execution_count": null,
      "outputs": [
        {
          "output_type": "stream",
          "name": "stdout",
          "text": [
            "tensor(2.3026)\n",
            "tensor(2.3026)\n",
            "tensor(1.2150)\n",
            "tensor(1.6200)\n"
          ]
        }
      ]
    },
    {
      "cell_type": "code",
      "source": [
        "-torch.log(torch.tensor(0.5))"
      ],
      "metadata": {
        "id": "sHv3zzd3tYUA",
        "colab": {
          "base_uri": "https://localhost:8080/"
        },
        "outputId": "09c07dc4-0a01-49de-89e0-ba388bcd9a8b"
      },
      "execution_count": null,
      "outputs": [
        {
          "output_type": "execute_result",
          "data": {
            "text/plain": [
              "tensor(0.6931)"
            ]
          },
          "metadata": {},
          "execution_count": 25
        }
      ]
    }
  ]
}